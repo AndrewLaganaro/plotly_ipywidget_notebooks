{
 "cells": [
  {
   "cell_type": "markdown",
   "metadata": {},
   "source": [
    "### Load NYC Taxi data\n",
    "We're going to look at the distribution of trip distances for a potion of the NYC taxi data set for January 2015."
   ]
  },
  {
   "cell_type": "code",
   "execution_count": null,
   "metadata": {},
   "outputs": [],
   "source": [
    "import os\n",
    "import pandas as pd\n",
    "import numpy as np\n",
    "import plotly.graph_objs as go\n",
    "from ipywidgets import VBox, HBox"
   ]
  },
  {
   "cell_type": "code",
   "execution_count": null,
   "metadata": {},
   "outputs": [],
   "source": [
    "pkl_path = 'data/nyc_taxi.pkl'\n",
    "if os.path.exists(pkl_path):\n",
    "    print('Loading saved dataset file... ', end='')\n",
    "    df = pd.read_pickle(pkl_path)\n",
    "    print('done')\n",
    "else:\n",
    "    print('Downloading and saving dataset (thanks to the datashader project for making this example dataset available!)... ', end='')\n",
    "    df = pd.read_csv('http://s3.amazonaws.com/datashader-data/nyc_taxi.zip', compression='zip')\n",
    "    df.to_pickle(pkl_path)\n",
    "    print('done')"
   ]
  },
  {
   "cell_type": "code",
   "execution_count": null,
   "metadata": {},
   "outputs": [],
   "source": [
    "df.head()"
   ]
  },
  {
   "cell_type": "markdown",
   "metadata": {},
   "source": [
    "Extract only those trips that carried at least 4 passengers. Also discard outlying trips fo more than 10 miles for visualization purposes."
   ]
  },
  {
   "cell_type": "code",
   "execution_count": null,
   "metadata": {},
   "outputs": [],
   "source": [
    "df_cleaned = df.loc[np.logical_and(\n",
    "    df.passenger_count >= 4,\n",
    "    df.trip_distance.between(0, 10, inclusive=False)\n",
    ")]\n",
    "len(df_cleaned)"
   ]
  },
  {
   "cell_type": "markdown",
   "metadata": {},
   "source": [
    "We're left with almost 1.2 million data points"
   ]
  },
  {
   "cell_type": "markdown",
   "metadata": {},
   "source": [
    "## Distribution of trip distance"
   ]
  },
  {
   "cell_type": "markdown",
   "metadata": {},
   "source": [
    "Initialize an empty figure with fixed x-axis range"
   ]
  },
  {
   "cell_type": "code",
   "execution_count": null,
   "metadata": {},
   "outputs": [],
   "source": [
    "fig1 = go.FigureWidget(layout={\n",
    "    'xaxis': {'range': [-0.1, 10]}\n",
    "})\n",
    "fig1"
   ]
  },
  {
   "cell_type": "markdown",
   "metadata": {},
   "source": [
    "Add a histogram trace with predefined bins (This take a couple of seconds)"
   ]
  },
  {
   "cell_type": "code",
   "execution_count": null,
   "metadata": {},
   "outputs": [],
   "source": [
    "hist = fig1.add_histogram(x=df_cleaned['trip_distance'], \n",
    "                          xbins={'start': -0.05, 'size': 0.1, 'end': 10})"
   ]
  },
  {
   "cell_type": "markdown",
   "metadata": {},
   "source": [
    "Update the axis titles (This happens immediately)"
   ]
  },
  {
   "cell_type": "code",
   "execution_count": null,
   "metadata": {},
   "outputs": [],
   "source": [
    "fig1.layout.xaxis.title = 'Trip distance (mi.)'"
   ]
  },
  {
   "cell_type": "code",
   "execution_count": null,
   "metadata": {},
   "outputs": [],
   "source": [
    "fig1.layout.yaxis.title = 'Frequency'"
   ]
  },
  {
   "cell_type": "markdown",
   "metadata": {},
   "source": [
    "### Plot pickup locations"
   ]
  },
  {
   "cell_type": "markdown",
   "metadata": {},
   "source": [
    "Create an empty figure with hidden axes"
   ]
  },
  {
   "cell_type": "code",
   "execution_count": null,
   "metadata": {},
   "outputs": [],
   "source": [
    "fig2 = go.FigureWidget(\n",
    "    layout={'width': 400, 'height': 400, 'hovermode': False,\n",
    "            'xaxis': {'tickvals': []},\n",
    "            'yaxis': {'tickvals': []},\n",
    "            'margin': {'b': 0, 't': 0, 'l': 0, 'r': 0}\n",
    "           })\n",
    "\n",
    "fig2"
   ]
  },
  {
   "cell_type": "markdown",
   "metadata": {},
   "source": [
    "Add a `scattergl` trace of the `x` and `y` coordinates of all 1.2 million pickup locations"
   ]
  },
  {
   "cell_type": "code",
   "execution_count": null,
   "metadata": {},
   "outputs": [],
   "source": [
    "scatter = fig2.add_scattergl(\n",
    "    x=df_cleaned['pickup_x'],\n",
    "    y=df_cleaned['pickup_y'],\n",
    "    mode='markers', \n",
    "    marker={'size': 4, 'opacity': 0.1})"
   ]
  },
  {
   "cell_type": "markdown",
   "metadata": {},
   "source": [
    "Constrain the aspect ratio so that view isn't distorted on zoom"
   ]
  },
  {
   "cell_type": "code",
   "execution_count": null,
   "metadata": {},
   "outputs": [],
   "source": [
    "fig2.layout.yaxis.scaleanchor = 'x'"
   ]
  },
  {
   "cell_type": "markdown",
   "metadata": {},
   "source": [
    "## Install Selection Callback"
   ]
  },
  {
   "cell_type": "markdown",
   "metadata": {},
   "source": [
    "Install selection callback function to update the trip distance histogram based on only the selected trips"
   ]
  },
  {
   "cell_type": "code",
   "execution_count": null,
   "metadata": {},
   "outputs": [],
   "source": [
    "def update_hist(trace, points, state):\n",
    "    if points.point_inds:\n",
    "        hist.x = df_cleaned['trip_distance'].iloc[points.point_inds]\n",
    "    else:\n",
    "        hist.x = df_cleaned['trip_distance']\n",
    "\n",
    "scatter.on_selection(update_hist)"
   ]
  },
  {
   "cell_type": "code",
   "execution_count": null,
   "metadata": {},
   "outputs": [],
   "source": []
  }
 ],
 "metadata": {
  "kernelspec": {
   "display_name": "Python 3",
   "language": "python",
   "name": "python3"
  },
  "language_info": {
   "codemirror_mode": {
    "name": "ipython",
    "version": 3
   },
   "file_extension": ".py",
   "mimetype": "text/x-python",
   "name": "python",
   "nbconvert_exporter": "python",
   "pygments_lexer": "ipython3",
   "version": "3.6.5"
  }
 },
 "nbformat": 4,
 "nbformat_minor": 2
}
