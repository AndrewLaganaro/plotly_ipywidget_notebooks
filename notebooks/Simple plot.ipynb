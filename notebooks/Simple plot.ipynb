{
 "cells": [
  {
   "cell_type": "code",
   "execution_count": 1,
   "metadata": {},
   "outputs": [],
   "source": [
    "import plotly.graph_objs as go\n",
    "from ipywidgets import IntSlider, VBox"
   ]
  },
  {
   "cell_type": "code",
   "execution_count": 2,
   "metadata": {},
   "outputs": [
    {
     "data": {
      "application/vnd.jupyter.widget-view+json": {
       "model_id": "7ea9cf0f2a184f95bbce63f39c375e3a",
       "version_major": 2,
       "version_minor": 0
      },
      "text/plain": [
       "FigureWidget(**{\n",
       "    'data': [{'type': 'scatter', 'uid': 'afbdbe06-6f10-11e8-bdbe-645aede86e5b', 'y': [3, 2, 3…"
      ]
     },
     "metadata": {},
     "output_type": "display_data"
    }
   ],
   "source": [
    "fig = go.FigureWidget(data=[{'y': [3, 2, 3, 4]}])\n",
    "fig"
   ]
  },
  {
   "cell_type": "code",
   "execution_count": 3,
   "metadata": {},
   "outputs": [
    {
     "data": {
      "application/vnd.jupyter.widget-view+json": {
       "model_id": "50259ebcebfe4d8bb93db736ef5d9af2",
       "version_major": 2,
       "version_minor": 0
      },
      "text/plain": [
       "VBox(children=(FigureWidget(**{\n",
       "    'data': [{'type': 'scatter', 'uid': 'afbdbe06-6f10-11e8-bdbe-645aede86e5b'…"
      ]
     },
     "metadata": {},
     "output_type": "display_data"
    }
   ],
   "source": [
    "slider = IntSlider()\n",
    "VBox([fig, slider])"
   ]
  },
  {
   "cell_type": "code",
   "execution_count": null,
   "metadata": {},
   "outputs": [],
   "source": []
  }
 ],
 "metadata": {
  "kernelspec": {
   "display_name": "Python 3",
   "language": "python",
   "name": "python3"
  },
  "language_info": {
   "codemirror_mode": {
    "name": "ipython",
    "version": 3
   },
   "file_extension": ".py",
   "mimetype": "text/x-python",
   "name": "python",
   "nbconvert_exporter": "python",
   "pygments_lexer": "ipython3",
   "version": "3.6.5"
  },
  "widgets": {
   "application/vnd.jupyter.widget-state+json": {
    "state": {
     "2cd78ee757874d6e9a2a872bb597a6a4": {
      "model_module": "@jupyter-widgets/base",
      "model_module_version": "1.0.0",
      "model_name": "LayoutModel",
      "state": {}
     },
     "50259ebcebfe4d8bb93db736ef5d9af2": {
      "model_module": "@jupyter-widgets/controls",
      "model_module_version": "1.2.0",
      "model_name": "VBoxModel",
      "state": {
       "children": [
        "IPY_MODEL_7ea9cf0f2a184f95bbce63f39c375e3a",
        "IPY_MODEL_f7b5cda341ea4a43a8bc26a2cac8c250"
       ],
       "layout": "IPY_MODEL_5a2d5a253c4d46adb20941b5207def37"
      }
     },
     "5a2d5a253c4d46adb20941b5207def37": {
      "model_module": "@jupyter-widgets/base",
      "model_module_version": "1.0.0",
      "model_name": "LayoutModel",
      "state": {}
     },
     "7ea9cf0f2a184f95bbce63f39c375e3a": {
      "model_module": "plotlywidget",
      "model_module_version": "0.1.0",
      "model_name": "FigureModel",
      "state": {
       "_data": [
        {
         "type": "scatter",
         "uid": "afbdbe06-6f10-11e8-bdbe-645aede86e5b",
         "y": [
          3,
          2,
          3,
          4
         ]
        }
       ],
       "_js2py_pointsCallback": {},
       "_js2py_relayout": {},
       "_js2py_restyle": {},
       "_js2py_update": {},
       "_py2js_addTraces": {},
       "_py2js_animate": {},
       "_py2js_deleteTraces": {},
       "_py2js_moveTraces": {},
       "_py2js_relayout": {},
       "_py2js_removeLayoutProps": {},
       "_py2js_removeTraceProps": {},
       "_py2js_restyle": {},
       "_py2js_update": {},
       "_view_count": 4
      }
     },
     "a23080bb2d79489ba1dc9204f3a54bb0": {
      "model_module": "@jupyter-widgets/controls",
      "model_module_version": "1.2.0",
      "model_name": "SliderStyleModel",
      "state": {
       "description_width": ""
      }
     },
     "f7b5cda341ea4a43a8bc26a2cac8c250": {
      "model_module": "@jupyter-widgets/controls",
      "model_module_version": "1.2.0",
      "model_name": "IntSliderModel",
      "state": {
       "layout": "IPY_MODEL_2cd78ee757874d6e9a2a872bb597a6a4",
       "style": "IPY_MODEL_a23080bb2d79489ba1dc9204f3a54bb0"
      }
     }
    },
    "version_major": 2,
    "version_minor": 0
   }
  }
 },
 "nbformat": 4,
 "nbformat_minor": 2
}
